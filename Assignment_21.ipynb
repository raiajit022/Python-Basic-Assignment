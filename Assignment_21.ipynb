{
 "cells": [
  {
   "cell_type": "markdown",
   "metadata": {},
   "source": [
    "1) Add the current date to the text file today.txt as a string.\n"
   ]
  },
  {
   "cell_type": "code",
   "execution_count": null,
   "metadata": {},
   "outputs": [],
   "source": []
  },
  {
   "cell_type": "markdown",
   "metadata": {},
   "source": [
    "2) Read the text file today.txt into the string today_string"
   ]
  },
  {
   "cell_type": "code",
   "execution_count": 1,
   "metadata": {},
   "outputs": [],
   "source": [
    "today = open('today.txt')\n",
    "today_string = today.read()"
   ]
  },
  {
   "cell_type": "code",
   "execution_count": null,
   "metadata": {},
   "outputs": [],
   "source": []
  },
  {
   "cell_type": "markdown",
   "metadata": {},
   "source": [
    "3) Parse the date from today_string."
   ]
  },
  {
   "cell_type": "code",
   "execution_count": 2,
   "metadata": {},
   "outputs": [],
   "source": [
    "split_string = today_string.split('/')\n",
    "print(split_string)"
   ]
  },
  {
   "cell_type": "code",
   "execution_count": null,
   "metadata": {},
   "outputs": [],
   "source": []
  },
  {
   "cell_type": "markdown",
   "metadata": {},
   "source": [
    "4) List the files in your current directory"
   ]
  },
  {
   "cell_type": "code",
   "execution_count": 3,
   "metadata": {},
   "outputs": [],
   "source": [
    "import os\n",
    "arr = os.listdir('.')\n",
    "print(arr)"
   ]
  },
  {
   "cell_type": "code",
   "execution_count": null,
   "metadata": {},
   "outputs": [],
   "source": []
  },
  {
   "cell_type": "markdown",
   "metadata": {},
   "source": [
    "5) Create a list of all of the files in your parent directory (minimum five files should be available).\n"
   ]
  },
  {
   "cell_type": "code",
   "execution_count": 4,
   "metadata": {},
   "outputs": [],
   "source": [
    "import os\n",
    " \n",
    "path = \"C://Users//PC\"\n",
    "dir_list = os.listdir(path)\n",
    " \n",
    "print(\"Files in '\", path, \"' :\")\n",
    " \n",
    "print(dir_list)"
   ]
  },
  {
   "cell_type": "code",
   "execution_count": null,
   "metadata": {},
   "outputs": [],
   "source": []
  },
  {
   "cell_type": "markdown",
   "metadata": {},
   "source": [
    "6) Use multiprocessing to create three separate processes. Make each one wait a random number of seconds between one and five, print the current time, and then exit.\n"
   ]
  },
  {
   "cell_type": "code",
   "execution_count": 5,
   "metadata": {},
   "outputs": [
    {
     "name": "stdout",
     "output_type": "stream",
     "text": [
      "Process 1 MainProcess Exiting\n",
      "Process 2 MainProcess Starting\n",
      "Process 2 MainProcess Exiting\n",
      "Process 3 MainProcess Starting\n",
      "Process 3 MainProcess Exiting\n"
     ]
    }
   ],
   "source": [
    "from multiprocessing import current_process\n",
    "import time\n",
    "\n",
    "def worker():\n",
    "    name = current_process().name\n",
    "    print('Process 1', 'Starting')\n",
    "    time.sleep(1)\n",
    "    print('Process 1',name, 'Exiting')\n",
    "\n",
    "def service():\n",
    "    name = current_process().name\n",
    "    print('Process 2',name, 'Starting')\n",
    "    time.sleep(3)\n",
    "    print('Process 2',name, 'Exiting')\n",
    "    \n",
    "\n",
    "def manufacturer():\n",
    "    name = current_process().name\n",
    "    print('Process 3',name, 'Starting')\n",
    "    time.sleep(3)\n",
    "    print('Process 3',name, 'Exiting')\n",
    "       \n",
    "    \n",
    "worker()\n",
    "service()\n",
    "manufacturer()"
   ]
  },
  {
   "cell_type": "code",
   "execution_count": null,
   "metadata": {},
   "outputs": [],
   "source": []
  },
  {
   "cell_type": "markdown",
   "metadata": {},
   "source": [
    "7) Create a date object of your day of birth.\n"
   ]
  },
  {
   "cell_type": "code",
   "execution_count": 6,
   "metadata": {},
   "outputs": [
    {
     "name": "stdout",
     "output_type": "stream",
     "text": [
      "30/10/2000\n"
     ]
    }
   ],
   "source": [
    "class Birthdate():\n",
    "       x = \"30/10/2000\"\n",
    "\n",
    "date = Birthdate()\n",
    "bday = date.x\n",
    "print(bday)"
   ]
  },
  {
   "cell_type": "code",
   "execution_count": null,
   "metadata": {},
   "outputs": [],
   "source": []
  },
  {
   "cell_type": "markdown",
   "metadata": {},
   "source": [
    "8) What day of the week was your day of birth?"
   ]
  },
  {
   "cell_type": "code",
   "execution_count": 7,
   "metadata": {},
   "outputs": [
    {
     "data": {
      "text/plain": [
       "'Monday'"
      ]
     },
     "execution_count": 7,
     "metadata": {},
     "output_type": "execute_result"
    }
   ],
   "source": [
    "import calendar\n",
    "\n",
    "days = [\"Monday\",\"Tuesday\",\"Wednesday\",\"Thursday\",\"Friday\",\"Saturday\",\"Sunday\"]\n",
    "days[calendar.weekday(2000,10,30)]"
   ]
  },
  {
   "cell_type": "code",
   "execution_count": null,
   "metadata": {},
   "outputs": [],
   "source": []
  },
  {
   "cell_type": "markdown",
   "metadata": {},
   "source": [
    "9) When will you be (or when were you) 10,000 days old?"
   ]
  },
  {
   "cell_type": "code",
   "execution_count": 8,
   "metadata": {},
   "outputs": [
    {
     "name": "stdout",
     "output_type": "stream",
     "text": [
      "I will be 10,000 days old in the year: 2028.0 and 0.18055555555542924 days\n"
     ]
    }
   ],
   "source": [
    "import datetime\n",
    "import math\n",
    "\n",
    "birth_date = datetime.date(2000, 10,30)\n",
    "end_date = datetime.date(2021,12,2)\n",
    "time_difference = end_date - birth_date\n",
    "\n",
    "age = time_difference.days\n",
    "\n",
    "rem_days = 10000-age\n",
    "rem_months = rem_days/30\n",
    "rem_years = rem_months/12\n",
    "\n",
    "Year = 2021.8 + rem_years\n",
    "\n",
    "year,days = divmod(Year,1)\n",
    "\n",
    "print('I will be 10,000 days old in the year:',year,'and',days,'days')\n",
    "\n",
    "\n",
    "\n",
    "\n",
    "\n",
    "\n"
   ]
  },
  {
   "cell_type": "code",
   "execution_count": null,
   "metadata": {},
   "outputs": [],
   "source": []
  }
 ],
 "metadata": {
  "kernelspec": {
   "display_name": "Python 3",
   "language": "python",
   "name": "python3"
  },
  "language_info": {
   "codemirror_mode": {
    "name": "ipython",
    "version": 3
   },
   "file_extension": ".py",
   "mimetype": "text/x-python",
   "name": "python",
   "nbconvert_exporter": "python",
   "pygments_lexer": "ipython3",
   "version": "3.8.5"
  }
 },
 "nbformat": 4,
 "nbformat_minor": 4
}
